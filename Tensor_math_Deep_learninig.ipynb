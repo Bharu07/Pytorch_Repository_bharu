{
  "nbformat": 4,
  "nbformat_minor": 0,
  "metadata": {
    "colab": {
      "provenance": [],
      "authorship_tag": "ABX9TyPW5DlFCouZyaVKmYpx4Fgu",
      "include_colab_link": true
    },
    "kernelspec": {
      "name": "python3",
      "display_name": "Python 3"
    },
    "language_info": {
      "name": "python"
    }
  },
  "cells": [
    {
      "cell_type": "markdown",
      "metadata": {
        "id": "view-in-github",
        "colab_type": "text"
      },
      "source": [
        "<a href=\"https://colab.research.google.com/github/Bharu07/Pytorch_Repository_bharu/blob/main/Tensor_math_Deep_learninig.ipynb\" target=\"_parent\"><img src=\"https://colab.research.google.com/assets/colab-badge.svg\" alt=\"Open In Colab\"/></a>"
      ]
    },
    {
      "cell_type": "markdown",
      "source": [
        "**TENSOR MATH OPERATION**\n",
        "\n",
        "\n",
        "*   Add, Subtract, Multiply, Divide, Remainders, Exponents\n",
        "*   Shorthand and uh, Longhand\n",
        "*   Reassignment"
      ],
      "metadata": {
        "id": "_ktVMxTId_0S"
      }
    },
    {
      "cell_type": "code",
      "execution_count": 1,
      "metadata": {
        "id": "QmgmYhvjHsmi"
      },
      "outputs": [],
      "source": [
        "import torch\n",
        "import numpy as np"
      ]
    },
    {
      "cell_type": "code",
      "source": [
        "tensor_a = torch.tensor([1,2,3,4])\n",
        "tensor_b = torch.tensor([5,6,7,8])"
      ],
      "metadata": {
        "id": "jnpTt5o4ecox"
      },
      "execution_count": 2,
      "outputs": []
    },
    {
      "cell_type": "code",
      "source": [
        "#Add\n",
        "add_1 = tensor_a + tensor_b\n",
        "print(add_1)\n",
        "\n",
        "add_2 = torch.add(tensor_a,tensor_b)\n",
        "print(add_2)"
      ],
      "metadata": {
        "colab": {
          "base_uri": "https://localhost:8080/"
        },
        "id": "Pn8WRHBPevFw",
        "outputId": "8a3b8e76-b931-48ac-9341-2c96fcd43907"
      },
      "execution_count": 7,
      "outputs": [
        {
          "output_type": "stream",
          "name": "stdout",
          "text": [
            "tensor([ 6,  8, 10, 12])\n",
            "tensor([ 6,  8, 10, 12])\n"
          ]
        }
      ]
    },
    {
      "cell_type": "code",
      "source": [
        "#Subtraction\n",
        "sub_1 = tensor_b - tensor_a\n",
        "print(sub_1)\n",
        "\n",
        "sub_2 = torch.sub(tensor_b, tensor_a)\n",
        "print(sub_2)"
      ],
      "metadata": {
        "colab": {
          "base_uri": "https://localhost:8080/"
        },
        "id": "cw_GVfHCe0_q",
        "outputId": "66133868-a507-4895-af9a-ef800808ec87"
      },
      "execution_count": 8,
      "outputs": [
        {
          "output_type": "stream",
          "name": "stdout",
          "text": [
            "tensor([-4, -4, -4, -4])\n",
            "tensor([-4, -4, -4, -4])\n"
          ]
        }
      ]
    },
    {
      "cell_type": "code",
      "source": [
        "#Multiplication\n",
        "mul_1 = tensor_a * tensor_b\n",
        "print(mul_1)\n",
        "\n",
        "mul_2 = torch.mul(tensor_a, tensor_b) # torch.mulitply also works\n",
        "print(mul_2)"
      ],
      "metadata": {
        "colab": {
          "base_uri": "https://localhost:8080/"
        },
        "id": "SsAa7DPGe91V",
        "outputId": "a6b99675-7307-4bc5-92f4-971dab8c67db"
      },
      "execution_count": 11,
      "outputs": [
        {
          "output_type": "stream",
          "name": "stdout",
          "text": [
            "tensor([ 5, 12, 21, 32])\n",
            "tensor([ 5, 12, 21, 32])\n"
          ]
        }
      ]
    },
    {
      "cell_type": "code",
      "source": [
        "#Division\n",
        "div_1 = tensor_a / tensor_b\n",
        "print(div_1)\n",
        "\n",
        "div_2 = torch.div(tensor_a, tensor_b)\n",
        "print(div_2)"
      ],
      "metadata": {
        "colab": {
          "base_uri": "https://localhost:8080/"
        },
        "id": "-2sbMAHvhlri",
        "outputId": "5cae185e-e457-47d4-bbff-e01bf9588ca5"
      },
      "execution_count": 17,
      "outputs": [
        {
          "output_type": "stream",
          "name": "stdout",
          "text": [
            "tensor([0.2000, 0.3333, 0.4286, 0.5000])\n",
            "tensor([0.2000, 0.3333, 0.4286, 0.5000])\n"
          ]
        }
      ]
    },
    {
      "cell_type": "code",
      "source": [
        "#Remainders\n",
        "div_1 = tensor_b % tensor_a\n",
        "print(div_1)\n",
        "\n",
        "div_2 = torch.remainder(tensor_a, tensor_b)\n",
        "print(div_2)"
      ],
      "metadata": {
        "colab": {
          "base_uri": "https://localhost:8080/"
        },
        "id": "dhxlH_fVjVbJ",
        "outputId": "821753f9-88df-42ce-d58f-bf27c88b8e7d"
      },
      "execution_count": 22,
      "outputs": [
        {
          "output_type": "stream",
          "name": "stdout",
          "text": [
            "tensor([0, 0, 1, 0])\n",
            "tensor([1, 2, 3, 4])\n"
          ]
        }
      ]
    },
    {
      "cell_type": "code",
      "source": [
        "#Power\n",
        "div_1 = torch.pow(tensor_a,tensor_b)\n",
        "div_1"
      ],
      "metadata": {
        "colab": {
          "base_uri": "https://localhost:8080/"
        },
        "id": "0ppOONKskAs3",
        "outputId": "15641ceb-0860-4034-e398-ac365ee787e4"
      },
      "execution_count": 24,
      "outputs": [
        {
          "output_type": "execute_result",
          "data": {
            "text/plain": [
              "tensor([    1,    64,  2187, 65536])"
            ]
          },
          "metadata": {},
          "execution_count": 24
        }
      ]
    },
    {
      "cell_type": "code",
      "source": [
        "#Another way to write longhand\n",
        "tensor_a.add(tensor_b)"
      ],
      "metadata": {
        "colab": {
          "base_uri": "https://localhost:8080/"
        },
        "id": "TrbQkS8UqfI5",
        "outputId": "edc7bf51-f28d-4b90-c82c-6b3e7f084dd6"
      },
      "execution_count": 31,
      "outputs": [
        {
          "output_type": "execute_result",
          "data": {
            "text/plain": [
              "tensor([16, 20, 24, 28])"
            ]
          },
          "metadata": {},
          "execution_count": 31
        }
      ]
    },
    {
      "cell_type": "code",
      "source": [
        "# Reassignment\n",
        "#tensor_a = tensor_a + tensor_b = The left operation is same as below operation.\n",
        "tensor_a.add_(tensor_b)"
      ],
      "metadata": {
        "colab": {
          "base_uri": "https://localhost:8080/"
        },
        "id": "5lcxBRO5niIQ",
        "outputId": "5696edbb-419e-43dd-8f7a-648d921ca55e"
      },
      "execution_count": 30,
      "outputs": [
        {
          "output_type": "execute_result",
          "data": {
            "text/plain": [
              "tensor([11, 14, 17, 20])"
            ]
          },
          "metadata": {},
          "execution_count": 30
        }
      ]
    },
    {
      "cell_type": "code",
      "source": [],
      "metadata": {
        "id": "bHTQnE99qbH6"
      },
      "execution_count": null,
      "outputs": []
    }
  ]
}