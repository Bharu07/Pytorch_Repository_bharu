{
  "nbformat": 4,
  "nbformat_minor": 0,
  "metadata": {
    "colab": {
      "provenance": [],
      "gpuType": "T4",
      "authorship_tag": "ABX9TyNRi+3+02J0QAoLQtXapkj2",
      "include_colab_link": true
    },
    "kernelspec": {
      "name": "python3",
      "display_name": "Python 3"
    },
    "language_info": {
      "name": "python"
    },
    "accelerator": "GPU"
  },
  "cells": [
    {
      "cell_type": "markdown",
      "metadata": {
        "id": "view-in-github",
        "colab_type": "text"
      },
      "source": [
        "<a href=\"https://colab.research.google.com/github/Bharu07/Pytorch_Repository_bharu/blob/main/Intro_to_Colab_1.ipynb\" target=\"_parent\"><img src=\"https://colab.research.google.com/assets/colab-badge.svg\" alt=\"Open In Colab\"/></a>"
      ]
    },
    {
      "cell_type": "markdown",
      "source": [
        "**TENSORS**\n",
        "\n",
        "\n",
        "\n",
        "*   A Torch. tensor is a multi-dimensional matrix containing elements of a single data type\n",
        "*   Similar to Numpy Arrays, but full of fun things that make work better on GPU's(vs regular CPU's).\n",
        "*   Default datatype of float 32\n",
        "*   More suitable for deeplearning than a numpy array.\n",
        "\n",
        "\n"
      ],
      "metadata": {
        "id": "d1sq07tmvN9f"
      }
    },
    {
      "cell_type": "code",
      "source": [
        "import torch\n",
        "import numpy as np"
      ],
      "metadata": {
        "id": "5aCe4HGd0oTT"
      },
      "execution_count": 1,
      "outputs": []
    },
    {
      "cell_type": "code",
      "source": [
        "np1 = np.random.rand(3,4)\n",
        "np1"
      ],
      "metadata": {
        "colab": {
          "base_uri": "https://localhost:8080/"
        },
        "id": "ix6St-F_0s_Q",
        "outputId": "8dc7ca28-023c-4469-fc8d-2df53364d8df"
      },
      "execution_count": 4,
      "outputs": [
        {
          "output_type": "execute_result",
          "data": {
            "text/plain": [
              "array([[0.19047193, 0.20050146, 0.81782814, 0.76985884],\n",
              "       [0.9781982 , 0.47454606, 0.59358634, 0.97702113],\n",
              "       [0.51796484, 0.86845971, 0.3212883 , 0.90735984]])"
            ]
          },
          "metadata": {},
          "execution_count": 4
        }
      ]
    },
    {
      "cell_type": "code",
      "source": [
        "np1.dtype"
      ],
      "metadata": {
        "colab": {
          "base_uri": "https://localhost:8080/"
        },
        "id": "WVa0gzyJmJZ5",
        "outputId": "1f27ee18-61ba-4836-ca51-b72de6b2f50b"
      },
      "execution_count": 9,
      "outputs": [
        {
          "output_type": "execute_result",
          "data": {
            "text/plain": [
              "dtype('float64')"
            ]
          },
          "metadata": {},
          "execution_count": 9
        }
      ]
    },
    {
      "cell_type": "code",
      "source": [
        "tensor_2d = torch.randn(3,4)\n",
        "tensor_2d"
      ],
      "metadata": {
        "colab": {
          "base_uri": "https://localhost:8080/"
        },
        "id": "sQ-6k2O-j6Yt",
        "outputId": "35af1438-e3ae-410c-90e9-f322002d4286"
      },
      "execution_count": 6,
      "outputs": [
        {
          "output_type": "execute_result",
          "data": {
            "text/plain": [
              "tensor([[ 1.0064,  0.6983,  0.8153,  1.4602],\n",
              "        [-1.6446, -0.3774, -0.1488, -0.6756],\n",
              "        [-0.2147, -1.7292, -0.5286, -0.5361]])"
            ]
          },
          "metadata": {},
          "execution_count": 6
        }
      ]
    },
    {
      "cell_type": "code",
      "source": [
        "tensor_2d.dtype"
      ],
      "metadata": {
        "colab": {
          "base_uri": "https://localhost:8080/"
        },
        "id": "BmMkUqXGmMoe",
        "outputId": "7d0bcc31-29e6-4006-9f68-e1e2b7e912cb"
      },
      "execution_count": 10,
      "outputs": [
        {
          "output_type": "execute_result",
          "data": {
            "text/plain": [
              "torch.float32"
            ]
          },
          "metadata": {},
          "execution_count": 10
        }
      ]
    },
    {
      "cell_type": "code",
      "source": [
        "my_tensor = torch.tensor(np1)\n",
        "my_tensor"
      ],
      "metadata": {
        "colab": {
          "base_uri": "https://localhost:8080/"
        },
        "id": "kEx9l393kH7A",
        "outputId": "7a13c13b-0525-4725-b779-c4001e010b0b"
      },
      "execution_count": 7,
      "outputs": [
        {
          "output_type": "execute_result",
          "data": {
            "text/plain": [
              "tensor([[0.1905, 0.2005, 0.8178, 0.7699],\n",
              "        [0.9782, 0.4745, 0.5936, 0.9770],\n",
              "        [0.5180, 0.8685, 0.3213, 0.9074]], dtype=torch.float64)"
            ]
          },
          "metadata": {},
          "execution_count": 7
        }
      ]
    },
    {
      "cell_type": "code",
      "source": [],
      "metadata": {
        "id": "ioVBDuH-lqiE"
      },
      "execution_count": null,
      "outputs": []
    }
  ]
}